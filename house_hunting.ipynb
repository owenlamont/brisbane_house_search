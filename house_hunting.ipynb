{
 "cells": [
  {
   "cell_type": "code",
   "execution_count": null,
   "id": "4918ad0d-7b59-47bd-9124-b5c917752782",
   "metadata": {},
   "outputs": [],
   "source": [
    "import geopandas as gpd\n",
    "import pandas as pd"
   ]
  },
  {
   "cell_type": "code",
   "execution_count": null,
   "id": "1371a47b-9661-486e-90cd-1f8709ef5c5d",
   "metadata": {},
   "outputs": [],
   "source": [
    "best_senior_schools_df = pd.read_html(\n",
    "    \"https://bettereducation.com.au/school/secondary/qld/brisbane_top_government_secondary_schools.aspx\"\n",
    ")[0]"
   ]
  },
  {
   "cell_type": "code",
   "execution_count": null,
   "id": "528993d3-0915-4cdf-9a23-4738d2a00ba3",
   "metadata": {},
   "outputs": [],
   "source": [
    "best_senior_schools_clean_df = (\n",
    "    best_senior_schools_df.dropna(axis=1)\n",
    "    .drop(columns=\"Trend / Compare\")\n",
    "    .convert_dtypes()\n",
    ")\n",
    "best_senior_schools_clean_df[\"Better Education Percentile\"] = (\n",
    "    best_senior_schools_clean_df[\"Better Education Percentile\"]\n",
    "    .str.strip(\"%\")\n",
    "    .astype(\"int64\")\n",
    ")\n",
    "\n",
    "best_senior_schools_clean_df[\"School\"] = (\n",
    "    best_senior_schools_clean_df[\"School\"]\n",
    "    .str.replace(\"State High School\", \"SHS\")\n",
    "    .str.replace(\"High School\", \"High\")\n",
    ")"
   ]
  },
  {
   "cell_type": "code",
   "execution_count": null,
   "id": "876f4101-cf93-4592-ab8a-27ebe4eab5f4",
   "metadata": {},
   "outputs": [],
   "source": [
    "best_primary_schools_df = pd.read_html(\n",
    "    \"https://bettereducation.com.au/school/Primary/qld/brisbane_top_government_primary_schools.aspx\"\n",
    ")[0]"
   ]
  },
  {
   "cell_type": "code",
   "execution_count": null,
   "id": "b1bc4485-adba-41d2-a18f-1c9b1211c9de",
   "metadata": {},
   "outputs": [],
   "source": [
    "best_primary_schools_clean_df = (\n",
    "    best_primary_schools_df.dropna(axis=1)\n",
    "    .drop(columns=\"Trend / Compare\")\n",
    "    .convert_dtypes()\n",
    ")\n",
    "best_primary_schools_clean_df[\"Better Education Percentile\"] = (\n",
    "    best_primary_schools_clean_df[\"Better Education Percentile\"]\n",
    "    .str.strip(\"%\")\n",
    "    .astype(\"int64\")\n",
    ")\n",
    "best_primary_schools_clean_df[\"School\"] = (\n",
    "    best_primary_schools_clean_df[\"School\"]\n",
    "    .str.replace(\"State School\", \"SS\")\n",
    "    .str.replace(\"State Infants and Primary School\", \"SIPS\")\n",
    ")"
   ]
  },
  {
   "cell_type": "code",
   "execution_count": null,
   "id": "09bae916-1fc9-4dc6-badd-45f6dd06feba",
   "metadata": {},
   "outputs": [],
   "source": [
    "gpd.io.file.fiona.drvsupport.supported_drivers['KML'] = 'rw'"
   ]
  },
  {
   "cell_type": "code",
   "execution_count": null,
   "id": "a79cd7cb-73bd-4230-b044-b7744a58a2dd",
   "metadata": {},
   "outputs": [],
   "source": [
    "senior_high_schools_gdf = gpd.read_file(\"http://opendata.dete.qld.gov.au/geo-data/2020/Senior-Secondary-Catchments-2020.kml\", driver='KML')"
   ]
  },
  {
   "cell_type": "code",
   "execution_count": null,
   "id": "9aba8a56-58fc-4135-b2a2-ebde7d61d354",
   "metadata": {},
   "outputs": [],
   "source": [
    "primary_schools_gdf = gpd.read_file(\"http://opendata.dete.qld.gov.au/geo-data/2020/Primary-Catchments-2020.kml\", driver='KML')"
   ]
  },
  {
   "cell_type": "code",
   "execution_count": null,
   "id": "9a6dc25a-b0e8-4562-b22c-813acc08fa69",
   "metadata": {},
   "outputs": [],
   "source": [
    "best_senior_high_schools_gdf = senior_high_schools_gdf.merge(best_senior_schools_clean_df, how=\"inner\", left_on=\"Name\", right_on=\"School\").drop(columns=\"School\")"
   ]
  },
  {
   "cell_type": "code",
   "execution_count": null,
   "id": "174db1f0-b003-440e-b588-80b4c79403bc",
   "metadata": {},
   "outputs": [],
   "source": [
    "best_senior_high_schools_gdf.plot()"
   ]
  },
  {
   "cell_type": "code",
   "execution_count": null,
   "id": "d351e8e0-5a8c-4c2b-a6d6-0ab74796eff1",
   "metadata": {},
   "outputs": [],
   "source": [
    "best_primary_schools_gdf = primary_schools_gdf.merge(best_primary_schools_clean_df, how=\"inner\", left_on=\"Name\", right_on=\"School\").drop(columns=\"School\")"
   ]
  },
  {
   "cell_type": "code",
   "execution_count": null,
   "id": "8d5b67c1-5a85-43b1-8a86-27d8c2695638",
   "metadata": {},
   "outputs": [],
   "source": [
    "best_primary_schools_gdf.plot()"
   ]
  },
  {
   "cell_type": "code",
   "execution_count": null,
   "id": "52182ca1-09f2-4322-a6a1-1ec905446f16",
   "metadata": {},
   "outputs": [],
   "source": []
  }
 ],
 "metadata": {
  "kernelspec": {
   "display_name": "Python 3 (ipykernel)",
   "language": "python",
   "name": "python3"
  },
  "language_info": {
   "codemirror_mode": {
    "name": "ipython",
    "version": 3
   },
   "file_extension": ".py",
   "mimetype": "text/x-python",
   "name": "python",
   "nbconvert_exporter": "python",
   "pygments_lexer": "ipython3",
   "version": "3.9.12"
  }
 },
 "nbformat": 4,
 "nbformat_minor": 5
}
