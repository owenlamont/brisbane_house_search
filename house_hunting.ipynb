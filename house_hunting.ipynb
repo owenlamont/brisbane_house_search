{
 "cells": [
  {
   "cell_type": "code",
   "execution_count": null,
   "id": "4918ad0d-7b59-47bd-9124-b5c917752782",
   "metadata": {},
   "outputs": [],
   "source": [
    "import geopandas as gpd\n",
    "import pandas as pd\n",
    "from ipyleaflet import Map, WKTLayer"
   ]
  },
  {
   "cell_type": "markdown",
   "id": "726bd78c-781f-46ef-90e3-726f85917b49",
   "metadata": {},
   "source": [
    "## Extract all the top public senior high schools listed on the bettereducation.com.au site"
   ]
  },
  {
   "cell_type": "code",
   "execution_count": null,
   "id": "1371a47b-9661-486e-90cd-1f8709ef5c5d",
   "metadata": {},
   "outputs": [],
   "source": [
    "best_senior_schools_df = pd.read_html(\n",
    "    \"https://bettereducation.com.au/school/secondary/qld/brisbane_top_government_secondary_schools.aspx\"\n",
    ")[0]"
   ]
  },
  {
   "cell_type": "code",
   "execution_count": null,
   "id": "528993d3-0915-4cdf-9a23-4738d2a00ba3",
   "metadata": {},
   "outputs": [],
   "source": [
    "best_senior_schools_clean_df = (\n",
    "    best_senior_schools_df.dropna(axis=1)\n",
    "    .drop(columns=\"Trend / Compare\")\n",
    "    .convert_dtypes()\n",
    ")\n",
    "best_senior_schools_clean_df[\"Better Education Percentile\"] = (\n",
    "    best_senior_schools_clean_df[\"Better Education Percentile\"]\n",
    "    .str.strip(\"%\")\n",
    "    .astype(\"int64\")\n",
    ")\n",
    "\n",
    "# Adjust school names to match the abbreviations used in http://opendata.dete.qld.gov.au/\n",
    "best_senior_schools_clean_df[\"School\"] = (\n",
    "    best_senior_schools_clean_df[\"School\"]\n",
    "    .str.replace(\"State High School\", \"SHS\")\n",
    "    .str.replace(\"High School\", \"High\")\n",
    ")"
   ]
  },
  {
   "cell_type": "markdown",
   "id": "bda4bb1f-97d0-489c-9590-4c4eb97a4819",
   "metadata": {},
   "source": [
    "## Extract all the top public primary schools listed on the bettereducation.com.au site"
   ]
  },
  {
   "cell_type": "code",
   "execution_count": null,
   "id": "876f4101-cf93-4592-ab8a-27ebe4eab5f4",
   "metadata": {},
   "outputs": [],
   "source": [
    "best_primary_schools_df = pd.read_html(\n",
    "    \"https://bettereducation.com.au/school/Primary/qld/brisbane_top_government_primary_schools.aspx\"\n",
    ")[0]"
   ]
  },
  {
   "cell_type": "code",
   "execution_count": null,
   "id": "b1bc4485-adba-41d2-a18f-1c9b1211c9de",
   "metadata": {},
   "outputs": [],
   "source": [
    "best_primary_schools_clean_df = (\n",
    "    best_primary_schools_df.dropna(axis=1)\n",
    "    .drop(columns=\"Trend / Compare\")\n",
    "    .convert_dtypes()\n",
    ")\n",
    "best_primary_schools_clean_df[\"Better Education Percentile\"] = (\n",
    "    best_primary_schools_clean_df[\"Better Education Percentile\"]\n",
    "    .str.strip(\"%\")\n",
    "    .astype(\"int64\")\n",
    ")\n",
    "\n",
    "# Adjust school names to match the abbreviations used in http://opendata.dete.qld.gov.au/\n",
    "best_primary_schools_clean_df[\"School\"] = (\n",
    "    best_primary_schools_clean_df[\"School\"]\n",
    "    .str.replace(\"State School\", \"SS\")\n",
    "    .str.replace(\"State Infants and Primary School\", \"SIPS\")\n",
    ")"
   ]
  },
  {
   "cell_type": "markdown",
   "id": "2e8090c7-3fbb-47e7-adb2-72034f80d53f",
   "metadata": {},
   "source": [
    "## Take the primary and senior high school catchment zome geometries from opendata.dete.qld.gov.au"
   ]
  },
  {
   "cell_type": "code",
   "execution_count": null,
   "id": "09bae916-1fc9-4dc6-badd-45f6dd06feba",
   "metadata": {},
   "outputs": [],
   "source": [
    "gpd.io.file.fiona.drvsupport.supported_drivers['KML'] = 'rw'"
   ]
  },
  {
   "cell_type": "code",
   "execution_count": null,
   "id": "a79cd7cb-73bd-4230-b044-b7744a58a2dd",
   "metadata": {},
   "outputs": [],
   "source": [
    "senior_high_schools_gdf = gpd.read_file(\n",
    "    \"http://opendata.dete.qld.gov.au/geo-data/2020/Senior-Secondary-Catchments-2020.kml\",\n",
    "    driver=\"KML\",\n",
    ")"
   ]
  },
  {
   "cell_type": "code",
   "execution_count": null,
   "id": "9aba8a56-58fc-4135-b2a2-ebde7d61d354",
   "metadata": {},
   "outputs": [],
   "source": [
    "primary_schools_gdf = gpd.read_file(\n",
    "    \"http://opendata.dete.qld.gov.au/geo-data/2020/Primary-Catchments-2020.kml\",\n",
    "    driver=\"KML\",\n",
    ")"
   ]
  },
  {
   "cell_type": "markdown",
   "id": "3b12056e-2934-4ffc-a953-f3b374be5f12",
   "metadata": {},
   "source": [
    "## Inner join the school catchment Geopandas dataframes with their corresponding best public school dataframes and plot resulting Geopandas dataframes"
   ]
  },
  {
   "cell_type": "code",
   "execution_count": null,
   "id": "9a6dc25a-b0e8-4562-b22c-813acc08fa69",
   "metadata": {},
   "outputs": [],
   "source": [
    "best_senior_high_schools_gdf = senior_high_schools_gdf.merge(\n",
    "    best_senior_schools_clean_df, how=\"inner\", left_on=\"Name\", right_on=\"School\"\n",
    ").drop(columns=\"School\")"
   ]
  },
  {
   "cell_type": "code",
   "execution_count": null,
   "id": "174db1f0-b003-440e-b588-80b4c79403bc",
   "metadata": {},
   "outputs": [],
   "source": [
    "best_senior_high_schools_gdf.plot()"
   ]
  },
  {
   "cell_type": "code",
   "execution_count": null,
   "id": "d351e8e0-5a8c-4c2b-a6d6-0ab74796eff1",
   "metadata": {},
   "outputs": [],
   "source": [
    "best_primary_schools_gdf = primary_schools_gdf.merge(\n",
    "    best_primary_schools_clean_df, how=\"inner\", left_on=\"Name\", right_on=\"School\"\n",
    ").drop(columns=\"School\")"
   ]
  },
  {
   "cell_type": "code",
   "execution_count": null,
   "id": "8d5b67c1-5a85-43b1-8a86-27d8c2695638",
   "metadata": {},
   "outputs": [],
   "source": [
    "best_primary_schools_gdf.plot()"
   ]
  },
  {
   "cell_type": "markdown",
   "id": "6def766b-cfc7-4aeb-a9ab-3176ae7afd1e",
   "metadata": {},
   "source": [
    "## Dissolve the best primary, and best senior high school geometries together and take the intersection of both to find areas that have good primary and senior high schools"
   ]
  },
  {
   "cell_type": "code",
   "execution_count": null,
   "id": "52182ca1-09f2-4322-a6a1-1ec905446f16",
   "metadata": {},
   "outputs": [],
   "source": [
    "primary_schools_geometry = best_primary_schools_gdf[[\"geometry\"]].dissolve().iloc[0,0]"
   ]
  },
  {
   "cell_type": "code",
   "execution_count": null,
   "id": "5731f725-f192-4864-bfea-d01134a513fc",
   "metadata": {},
   "outputs": [],
   "source": [
    "primary_schools_geometry"
   ]
  },
  {
   "cell_type": "code",
   "execution_count": null,
   "id": "e1550fe0-9e75-46c7-bba6-15b594257f56",
   "metadata": {},
   "outputs": [],
   "source": [
    "senior_high_schools_geometry = best_senior_high_schools_gdf[[\"geometry\"]].dissolve().iloc[0,0]"
   ]
  },
  {
   "cell_type": "code",
   "execution_count": null,
   "id": "ffb49d32-9520-46ab-a763-784801575033",
   "metadata": {},
   "outputs": [],
   "source": [
    "senior_high_schools_geometry"
   ]
  },
  {
   "cell_type": "code",
   "execution_count": null,
   "id": "fd012e92-ecf9-4d4e-bfbb-486e449123c0",
   "metadata": {},
   "outputs": [],
   "source": [
    "primary_and_senior_high_school_geometry = primary_schools_geometry.intersection(senior_high_schools_geometry)"
   ]
  },
  {
   "cell_type": "code",
   "execution_count": null,
   "id": "4551354f-9a01-44c6-aefe-26eca46e630a",
   "metadata": {},
   "outputs": [],
   "source": [
    "primary_and_senior_high_school_geometry"
   ]
  },
  {
   "cell_type": "markdown",
   "id": "3dad0d0a-5607-4f72-9aef-6bf3dc98a8b5",
   "metadata": {},
   "source": [
    "## Plot the combined school polygon over a leaflet map"
   ]
  },
  {
   "cell_type": "code",
   "execution_count": null,
   "id": "55dadd07-97c0-4216-a1ef-3202dd42ec2b",
   "metadata": {},
   "outputs": [],
   "source": [
    "m = Map(center=(-27.5, 153), zoom=10)"
   ]
  },
  {
   "cell_type": "code",
   "execution_count": null,
   "id": "7af2922b-2ace-46a5-a0f0-6ab865be66ee",
   "metadata": {},
   "outputs": [],
   "source": [
    "wlayer = WKTLayer(\n",
    "    wkt_string=primary_and_senior_high_school_geometry.wkt,\n",
    ")"
   ]
  },
  {
   "cell_type": "code",
   "execution_count": null,
   "id": "bc5a7c63-9b06-4dbc-ac12-771614f31394",
   "metadata": {},
   "outputs": [],
   "source": [
    "m.add_layer(wlayer)"
   ]
  },
  {
   "cell_type": "code",
   "execution_count": null,
   "id": "e122b5b1-ece9-4ef5-bd9d-bfac526d94b0",
   "metadata": {},
   "outputs": [],
   "source": [
    "m"
   ]
  }
 ],
 "metadata": {
  "kernelspec": {
   "display_name": "Python 3 (ipykernel)",
   "language": "python",
   "name": "python3"
  },
  "language_info": {
   "codemirror_mode": {
    "name": "ipython",
    "version": 3
   },
   "file_extension": ".py",
   "mimetype": "text/x-python",
   "name": "python",
   "nbconvert_exporter": "python",
   "pygments_lexer": "ipython3",
   "version": "3.9.12"
  }
 },
 "nbformat": 4,
 "nbformat_minor": 5
}
